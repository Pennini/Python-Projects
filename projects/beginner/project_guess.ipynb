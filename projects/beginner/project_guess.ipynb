{
 "cells": [
  {
   "cell_type": "code",
   "execution_count": 1,
   "metadata": {},
   "outputs": [
    {
     "name": "stdout",
     "output_type": "stream",
     "text": [
      "Choose a number beetwen 1 and 1000\n",
      "Your number is 171. Uhuuul! I've tried 14 times to find it.\n"
     ]
    }
   ],
   "source": [
    "# Computador tenta adivinhar\n",
    "# Minha tentativa\n",
    "import random\n",
    "\n",
    "print(\"Choose a number beetwen 1 and 1000\")\n",
    "num = random.randrange(1, 1001)\n",
    "def get_answer():\n",
    "    answer = input(f\"Your number is over (o) or under (u) {num}? or this is your number (y)? \")\n",
    "    while answer not in [\"o\", \"u\", \"y\"]:\n",
    "        answer = input(f\"Your number is over (o) or under (u) {num}? or this is your number (y)\")\n",
    "    return answer\n",
    "answer = get_answer()\n",
    "temp = 1\n",
    "temp2 = 1001\n",
    "count = 1\n",
    "while answer != \"y\":\n",
    "    if answer == \"o\":\n",
    "        temp = num\n",
    "        num = random.randrange(num + 1, temp2)\n",
    "        answer = get_answer()\n",
    "        count += 1\n",
    "    if answer == \"u\":\n",
    "        temp2 = num\n",
    "        num = random.randrange(temp + 1, num)\n",
    "        answer = get_answer()\n",
    "        count += 1\n",
    "print(f\"Your number is {num}. Uhuuul! I've tried {count} times to find it.\")"
   ]
  },
  {
   "cell_type": "code",
   "execution_count": 21,
   "metadata": {},
   "outputs": [
    {
     "name": "stdout",
     "output_type": "stream",
     "text": [
      "Choose a number between 1 and 1000\n",
      "Your number is 747. Congratulations! I tried 1 times to find it.\n"
     ]
    }
   ],
   "source": [
    "# Computador tenta adivinhar\n",
    "# ChatGPT\n",
    "import random\n",
    "\n",
    "def get_user_input(num):\n",
    "    while True:\n",
    "        answer = input(f\"Your number is over (o), under (u) {num} or this is your number (y)? \")\n",
    "        if answer in [\"o\", \"u\", \"y\"]:\n",
    "            return answer\n",
    "        print(\"Sorry, please enter a valid option.\")\n",
    "\n",
    "def guess_number():\n",
    "    print(\"Choose a number between 1 and 1000\")\n",
    "    lower_bound = 1\n",
    "    upper_bound = 1001\n",
    "    count = 0\n",
    "\n",
    "    while True:\n",
    "        num = random.randrange(lower_bound, upper_bound)\n",
    "        answer = get_user_input(num)\n",
    "        count += 1\n",
    "\n",
    "        if answer == \"y\":\n",
    "            print(f\"Your number is {num}. Congratulations! I tried {count} times to find it.\")\n",
    "            break\n",
    "        elif answer == \"o\":\n",
    "            lower_bound = num + 1\n",
    "        elif answer == \"u\":\n",
    "            upper_bound = num\n",
    "\n",
    "guess_number()"
   ]
  },
  {
   "cell_type": "code",
   "execution_count": 2,
   "metadata": {},
   "outputs": [
    {
     "name": "stdout",
     "output_type": "stream",
     "text": [
      "Try a lower number.\n",
      "Try a lower number.\n",
      "Try a lower number.\n",
      "Try a lower number.\n",
      "Try a lower number.\n",
      "Try a lower number.\n",
      "Try a higher number.\n",
      "Try a higher number.\n",
      "Try a higher number.\n",
      "Try a higher number.\n",
      "Try a higher number.\n",
      "Try a lower number.\n",
      "Try a higher number.\n",
      "You got it in 14 attempts! My number is 58\n"
     ]
    }
   ],
   "source": [
    "# Usuário tenta adivinhar\n",
    "# Minha tentativa\n",
    "import random\n",
    "\n",
    "def guess(x):\n",
    "    num = random.randint(1, x)\n",
    "    repeat = 15\n",
    "    trynum = 0\n",
    "    count = 0\n",
    "    while num != trynum and repeat > 0:\n",
    "        trynum = int(input(f\"Guess the number I'm thinking between 1 and {x}! \"))\n",
    "        if trynum > num:\n",
    "            print(\"Try a lower number.\")\n",
    "        elif trynum < num:\n",
    "            print(\"Try a higher number.\")\n",
    "        repeat -= 1\n",
    "        count += 1\n",
    "    if trynum != num:\n",
    "        print(f\"Sorry, you didn't got my number. It was {num}\")\n",
    "    else:\n",
    "        print(f\"You got it in {count} attempts! My number is {num}\")\n",
    "x = int(input(\"What it's the range of the game?\"))\n",
    "guess(x)"
   ]
  },
  {
   "cell_type": "code",
   "execution_count": 39,
   "metadata": {},
   "outputs": [
    {
     "name": "stdout",
     "output_type": "stream",
     "text": [
      "Try a higher number.\n",
      "Try a higher number.\n",
      "Try a higher number.\n",
      "Try a lower number.\n",
      "Try a higher number.\n",
      "Try a lower number.\n",
      "Try a lower number.\n",
      "You got it in 8 attempts! My number is 910.\n"
     ]
    }
   ],
   "source": [
    "# Usuário tenta adivinhar\n",
    "# ChatGPT\n",
    "\n",
    "import random\n",
    "\n",
    "def guess(x):\n",
    "    num = random.randint(1, x)\n",
    "    repeat = 15\n",
    "    count = 1\n",
    "\n",
    "    while repeat > 0:\n",
    "        trynum = int(input(f\"Guess the number I'm thinking between 1 and {x}! \"))\n",
    "        if trynum > num:\n",
    "            print(\"Try a lower number.\")\n",
    "        elif trynum < num:\n",
    "            print(\"Try a higher number.\")\n",
    "        else:\n",
    "            print(f\"You got it in {count} attempts! My number is {num}.\")\n",
    "            return\n",
    "        repeat -= 1\n",
    "        count += 1\n",
    "\n",
    "    print(f\"Sorry, you didn't guess my number. It was {num}.\")\n",
    "\n",
    "x = int(input(\"What is the range of the game? \"))\n",
    "guess(x)"
   ]
  }
 ],
 "metadata": {
  "kernelspec": {
   "display_name": "Python 3",
   "language": "python",
   "name": "python3"
  },
  "language_info": {
   "codemirror_mode": {
    "name": "ipython",
    "version": 3
   },
   "file_extension": ".py",
   "mimetype": "text/x-python",
   "name": "python",
   "nbconvert_exporter": "python",
   "pygments_lexer": "ipython3",
   "version": "3.11.4"
  },
  "orig_nbformat": 4
 },
 "nbformat": 4,
 "nbformat_minor": 2
}
